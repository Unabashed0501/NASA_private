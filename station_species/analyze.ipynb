{
 "cells": [
  {
   "cell_type": "code",
   "execution_count": 10,
   "metadata": {},
   "outputs": [],
   "source": [
    "import pandas as pd\n",
    "\n",
    "station_df = pd.read_csv('America_river_data.csv')\n",
    "species_df = pd.read_csv('America_species.csv')"
   ]
  },
  {
   "cell_type": "code",
   "execution_count": 15,
   "metadata": {},
   "outputs": [
    {
     "name": "stderr",
     "output_type": "stream",
     "text": [
      "100%|██████████| 16050/16050 [51:35<00:00,  5.18it/s]    "
     ]
    },
    {
     "name": "stdout",
     "output_type": "stream",
     "text": [
      "0.0\n"
     ]
    },
    {
     "name": "stderr",
     "output_type": "stream",
     "text": [
      "\n"
     ]
    }
   ],
   "source": [
    "def dist(a,b):\n",
    "    return ((a[0]-b[0])**2 + (a[1]-b[1])**2)**0.5\n",
    "import random\n",
    "import tqdm\n",
    "r = 3\n",
    "sp1 = []\n",
    "sp2 = []\n",
    "sp3 = []\n",
    "total = 0\n",
    "for i in tqdm.tqdm(range(len(station_df))):\n",
    "    lat = station_df['latitude'][i]\n",
    "    lon = station_df['longitude'][i]\n",
    "    species = []\n",
    "    l = list(range(len(species_df)))\n",
    "    random.shuffle(l)\n",
    "    count = 0\n",
    "    for j in l:\n",
    "        lat2 = species_df['latitude'][j]\n",
    "        lon2 = species_df['longitude'][j]\n",
    "        count += 1\n",
    "        if not species_df['scientific_name'][j] in species and dist((lat,lon),(lat2,lon2)) < r:\n",
    "            species.append(species_df['scientific_name'][j])\n",
    "        if len(species) == 2 or count >= len(species_df)//2:\n",
    "            break\n",
    "    try:\n",
    "        sp1.append(species[0])\n",
    "    except:\n",
    "        sp1.append(None)\n",
    "    try:\n",
    "        sp2.append(species[1])\n",
    "    except:\n",
    "        sp2.append(None)\n",
    "    try:\n",
    "        sp3.append(species[2])\n",
    "    except:\n",
    "        sp3.append(None)\n",
    "\n",
    "station_df['species1'] = sp1\n",
    "station_df['species2'] = sp2\n",
    "station_df['species3'] = sp3\n",
    "station_df.to_csv('America_river_data_s.csv')\n",
    "print(total/len(station_df))"
   ]
  },
  {
   "cell_type": "code",
   "execution_count": null,
   "metadata": {},
   "outputs": [],
   "source": []
  }
 ],
 "metadata": {
  "kernelspec": {
   "display_name": "Python 3",
   "language": "python",
   "name": "python3"
  },
  "language_info": {
   "codemirror_mode": {
    "name": "ipython",
    "version": 3
   },
   "file_extension": ".py",
   "mimetype": "text/x-python",
   "name": "python",
   "nbconvert_exporter": "python",
   "pygments_lexer": "ipython3",
   "version": "3.11.5"
  }
 },
 "nbformat": 4,
 "nbformat_minor": 2
}
